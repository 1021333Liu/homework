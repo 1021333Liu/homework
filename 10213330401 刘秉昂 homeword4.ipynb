{
 "cells": [
  {
   "cell_type": "code",
   "execution_count": 83,
   "id": "e13872a0",
   "metadata": {},
   "outputs": [
    {
     "name": "stdout",
     "output_type": "stream",
     "text": [
      "1\n",
      "3\n",
      "5\n",
      "7\n",
      "9\n",
      "11\n",
      "13\n",
      "15\n",
      "17\n",
      "19\n",
      "21\n",
      "23\n",
      "25\n",
      "27\n",
      "29\n",
      "31\n",
      "33\n",
      "35\n",
      "37\n",
      "39\n",
      "41\n",
      "43\n",
      "45\n",
      "47\n",
      "49\n",
      "51\n",
      "53\n",
      "55\n",
      "57\n",
      "59\n",
      "61\n",
      "63\n",
      "65\n",
      "67\n",
      "69\n",
      "71\n",
      "73\n",
      "75\n",
      "77\n",
      "79\n",
      "81\n",
      "83\n",
      "85\n",
      "87\n",
      "89\n",
      "91\n",
      "93\n",
      "95\n",
      "97\n",
      "99\n",
      "58435841445947272053455474390625\n"
     ]
    }
   ],
   "source": [
    "result=1\n",
    "for i in range(100):\n",
    "    if(i%2!=0):\n",
    "        print(i)\n",
    "        if(i<=50):\n",
    "            result=result*i\n",
    "print(result)"
   ]
  },
  {
   "cell_type": "code",
   "execution_count": 84,
   "id": "37adc8fd",
   "metadata": {},
   "outputs": [
    {
     "name": "stdout",
     "output_type": "stream",
     "text": [
      "[5, 4, 3, 2, 1]\n"
     ]
    }
   ],
   "source": [
    "list_3=[1,2,3,4,5]\n",
    "for i in range (len(list_3)):\n",
    "    if(i<len(list_3)/2):\n",
    "        change=list_3[len(list_3)-i-1]\n",
    "        list_3[len(list_3)-i-1]=list_3[i]\n",
    "        list_3[i]=change\n",
    "print(list_3)"
   ]
  },
  {
   "cell_type": "code",
   "execution_count": 85,
   "id": "d212ec98",
   "metadata": {},
   "outputs": [
    {
     "name": "stdout",
     "output_type": "stream",
     "text": [
      "[5, 4, 3, 2, 1]\n"
     ]
    }
   ],
   "source": [
    "list_0=[1,2,3,4,5]\n",
    "i=0\n",
    "while i<=2 :\n",
    "    change=list_0[i]\n",
    "    list_0[i]=list_0[4-i]\n",
    "    list_0[4-i]=change\n",
    "    i=i+1\n",
    "print(list_0)"
   ]
  },
  {
   "cell_type": "code",
   "execution_count": 19,
   "id": "a1cf8450",
   "metadata": {},
   "outputs": [
    {
     "name": "stdout",
     "output_type": "stream",
     "text": [
      "[5, 4, 3, 2, 1]\n"
     ]
    }
   ],
   "source": [
    "list_0=[1,2,3,4,5]\n",
    "print(list_0[::-1])"
   ]
  },
  {
   "cell_type": "code",
   "execution_count": 1,
   "id": "9c74954c",
   "metadata": {},
   "outputs": [
    {
     "name": "stdout",
     "output_type": "stream",
     "text": [
      "asddddd\n",
      "find 1\n",
      "find 2\n",
      "find 3\n",
      "find 4\n",
      "5\n"
     ]
    }
   ],
   "source": [
    "list_1=input()\n",
    "p=1\n",
    "for i in range (len(list_1)-1):\n",
    "    if(list_1[i]==list_1[i+1]):\n",
    "        print(\"find {}\".format(p))\n",
    "        p=p+1\n",
    "list_2=[]\n",
    "for i in range(len(list_1)-1):\n",
    "    j=i\n",
    "    if(list_1[j]==list_1[j+1]):\n",
    "        now=2\n",
    "        j+=1\n",
    "        while(j<len(list_1)-1 and list_1[j]==list_1[j+1]):\n",
    "            now+=1\n",
    "            j+=1\n",
    "        list_2.append(now)\n",
    "print(max(list_2))"
   ]
  },
  {
   "cell_type": "code",
   "execution_count": 18,
   "id": "b84858b8",
   "metadata": {},
   "outputs": [
    {
     "name": "stdout",
     "output_type": "stream",
     "text": [
      "asd dd\n",
      "asddd\n"
     ]
    }
   ],
   "source": [
    "s=input()\n",
    "list_str=list(s)\n",
    "for i in range(len(list_str)-1):\n",
    "    if(list_str[i]==\" \"):\n",
    "        del list_str[i]\n",
    "str=\"\".join(list_str)\n",
    "print(str)"
   ]
  },
  {
   "cell_type": "code",
   "execution_count": 22,
   "id": "a111b296",
   "metadata": {
    "scrolled": true
   },
   "outputs": [
    {
     "name": "stdout",
     "output_type": "stream",
     "text": [
      "0.58212\n"
     ]
    }
   ],
   "source": [
    "import random\n",
    "import math\n",
    "s=1*2\n",
    "sum=100000\n",
    "c=0\n",
    "for i in range(sum):\n",
    "    x=random.uniform(0,1)\n",
    "    y=random.uniform(0,s)\n",
    "    if pow(x,3)+pow(x,2)>=y:\n",
    "        c+=1\n",
    "print(c/sum*s)\n",
    "    "
   ]
  },
  {
   "cell_type": "code",
   "execution_count": 1,
   "id": "61f9b47e",
   "metadata": {},
   "outputs": [
    {
     "name": "stdout",
     "output_type": "stream",
     "text": [
      "1.4142135623730951\n"
     ]
    }
   ],
   "source": [
    "import math\n",
    "s=pow(2,1/2)\n",
    "print(s)"
   ]
  },
  {
   "cell_type": "code",
   "execution_count": 2,
   "id": "c402432a",
   "metadata": {},
   "outputs": [
    {
     "name": "stdout",
     "output_type": "stream",
     "text": [
      "1.4142135623730951\n"
     ]
    }
   ],
   "source": [
    "s=2**0.5\n",
    "print(s)"
   ]
  },
  {
   "cell_type": "code",
   "execution_count": 3,
   "id": "a3688161",
   "metadata": {},
   "outputs": [
    {
     "name": "stdout",
     "output_type": "stream",
     "text": [
      "1.4142135623733338\n"
     ]
    }
   ],
   "source": [
    "import math\n",
    "r=0\n",
    "l=2\n",
    "result=2\n",
    "m=(r+l)/2\n",
    "while(abs(pow(m,2)-result)>0.000000000001):\n",
    "    if(pow(m,2)>result):\n",
    "        l=m\n",
    "        m=(r+m)/2\n",
    "    else:\n",
    "        r=m\n",
    "        m=(m+l)/2\n",
    "print(m)\n"
   ]
  },
  {
   "cell_type": "code",
   "execution_count": null,
   "id": "2cbd6af8",
   "metadata": {},
   "outputs": [],
   "source": [
    "import random\n",
    "import math\n",
    "num=10000000000000000\n",
    "now=0\n",
    "for i in range(num):\n",
    "    x=random.uniform(0,1)\n",
    "    y=random.uniform(0,1)\n",
    "    if(pow(x,2)+pow(y,2)<=1):\n",
    "        now+=1\n",
    "pi=now/num*4\n",
    "print(pi)"
   ]
  },
  {
   "cell_type": "code",
   "execution_count": null,
   "id": "cfab10fc",
   "metadata": {},
   "outputs": [],
   "source": []
  }
 ],
 "metadata": {
  "kernelspec": {
   "display_name": "Python 3 (ipykernel)",
   "language": "python",
   "name": "python3"
  },
  "language_info": {
   "codemirror_mode": {
    "name": "ipython",
    "version": 3
   },
   "file_extension": ".py",
   "mimetype": "text/x-python",
   "name": "python",
   "nbconvert_exporter": "python",
   "pygments_lexer": "ipython3",
   "version": "3.9.12"
  }
 },
 "nbformat": 4,
 "nbformat_minor": 5
}
